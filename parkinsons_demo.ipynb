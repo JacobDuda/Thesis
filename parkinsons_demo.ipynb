{
 "cells": [
  {
   "cell_type": "markdown",
   "metadata": {},
   "source": [
    "This will employ the same bump attractor as dynamic_bump_working.ipynb and will demonstrate how dopamine allows a network to be more resistant to noise. "
   ]
  },
  {
   "cell_type": "code",
   "execution_count": 5,
   "metadata": {},
   "outputs": [],
   "source": [
    "import numpy as np\n",
    "import matplotlib.pyplot as plt\n",
    "import scipy.stats as stats\n",
    "import random"
   ]
  },
  {
   "cell_type": "code",
   "execution_count": 93,
   "metadata": {},
   "outputs": [],
   "source": [
    "class attractor:\n",
    "    def __init__(self, n_units, exc_spread=1, inp_scale=1, exc_scale = 1, inh_scale = 1, dop_scale = 1,tonic_inhib = 0, n_noise_scale = 0, t_noise_scale = 0):\n",
    "        \n",
    "        #number of units in the line\n",
    "        self.n_units = n_units\n",
    "\n",
    "        #the input weight matrix just scales the input up or down, allows for adjusting of excitation while still using intuitive inputs (I think)\n",
    "        self.W_input = np.identity(n_units) * inp_scale\n",
    "\n",
    "        #generates the internal excitatory weight matrix, exc_spread controls how far excitatory connections reach, exc_scale controls how strong the excitatory connections are\n",
    "        #its just a collections of Gaussians, exc_spread controls the sd\n",
    "        self.W_exc = np.zeros((n_units,n_units))\n",
    "        unit_ids = np.arange(0,n_units,1)        \n",
    "        for i in range(0,n_units):\n",
    "            ###the multiplying by n_units is because it is a pdf that decreases with the number of units involved, there might be a smarter way around this \n",
    "            ###but not using a pdf does not work so I will keep moving for now, either way I am not sure it makes a difference\n",
    "            self.W_exc[i] = stats.norm.pdf(unit_ids, i, exc_spread) * n_units * exc_scale\n",
    "        \n",
    "        #there is tonic inhibition that scales with the total amount of activity in the network, similar to the basal ganglia\n",
    "        self.W_inh = np.ones((n_units,n_units)) * (-1 * inh_scale)\n",
    "\n",
    "        #the dopamine modulates the excitatory current, this is how strong the modulation is\n",
    "        self.dop_scale = dop_scale\n",
    "\n",
    "        #how strong the tonic inhibition is, negativly modulated by dopamine\n",
    "        self.tonic_inhib = tonic_inhib\n",
    "\n",
    "        #how strong the noise in the neuron's activation is\n",
    "        self.n_noise_scale = n_noise_scale\n",
    "\n",
    "        #how strong the noise in the tapping is (there will be some taps that are produced faster or slower then intended by a few milliseconds)\n",
    "        self.t_noise_scale = t_noise_scale\n",
    "        \n",
    "        '''\n",
    "        #just plotting the weights so they can be checked\n",
    "        plt.figure(1)\n",
    "        plt.imshow(self.W_exc, cmap=\"plasma\")\n",
    "        plt.colorbar()\n",
    "        plt.title(\"W_exc matrix\")\n",
    "\n",
    "        plt.figure(2)\n",
    "        plt.plot(self.W_exc[int(np.round(n_units/2,0))], color=\"steelblue\")\n",
    "        plt.title(\"Excitatory weights from unit \"+str(int(np.round(n_units/2,0)))+\" to all other units\")\n",
    "        plt.xlabel(\"Unit Number\")\n",
    "        plt.ylabel(\"Connection Strength\")\n",
    "        '''\n",
    "        #just initializing these variables so I don't cause mistakes later due to not knowing how to code\n",
    "        self.dopamine = 0\n",
    "        self.input = 0\n",
    "        self.simulation = 0        \n",
    "\n",
    "\n",
    "    #simulates the attractor receiving the input \n",
    "    def run(self, dopamine,means):\n",
    "\n",
    "        #number of time points and time constant\n",
    "        n_steps = len(dopamine)\n",
    "        dt = 0.001\n",
    "        tau = 0.1\n",
    "        unit_ids = np.arange(0,200,1) #this is used to define the input to the attractor later\n",
    "\n",
    "\n",
    "        #storing these for later\n",
    "        self.dopamine = dopamine\n",
    "        #matrix to store the input to the attractor\n",
    "        self.a_input = np.zeros((self.n_units, n_steps))\n",
    "\n",
    "        #matrix to hold the activations of all the units\n",
    "        activations = np.zeros((self.n_units, n_steps))\n",
    "        \n",
    "\n",
    "        for i in range(0, n_steps-600):\n",
    "            #now we need to set the new input to the bump attractor, I do not think we need to make it noisy, because there is already the Gaussin representing uncertainty but this can be changed easily\n",
    "            self.a_input[:,i] = stats.norm.pdf(unit_ids, 500 - 400 + means[i],15)\n",
    "            #simulate the behavior of the bump attractor\n",
    "            activations[:,i+1] = activations[:,i] + dt * (1/tau)*(self.non_lin(np.matmul((self.W_input,self.a_input[:,i])+ np.matmul(self.W_exc,activations[:,i]) * self.dop_scale) * dopamine[i] + np.matmul(self.W_inh,activations[:,i]) - (1-dopamine[i]) * self.tonic_inhib) - activations[:,i] + np.random.uniform(low=-1,high=1,size=self.n_units) * self.n_noise_scale)\n",
    "\n",
    "\n",
    "        self.activations = activations \n",
    "\n",
    "        self.saliences = np.zeros(n_steps)\n",
    "        for i in range(n_steps):\n",
    "            self.saliences[i] = (np.argmax(activations[:,i]) + 400)/1000\n",
    "\n",
    "        '''\n",
    "        plt.figure(3)\n",
    "        plt.imshow(self.a_input,aspect=\"auto\")\n",
    "        plt.ylabel(\"unit\")\n",
    "        plt.xlabel(\"time\")\n",
    "        plt.colorbar()\n",
    "        plt.title(\"Input\")\n",
    "\n",
    "        plt.figure(4)\n",
    "        plt.imshow(activations,aspect=\"auto\")\n",
    "        plt.ylabel(\"unit\")\n",
    "        plt.xlabel(\"time\")\n",
    "        plt.title(\"Activations of all units\")\n",
    "\n",
    "        \n",
    "\n",
    "        self.saliences = np.zeros(n_steps)\n",
    "        for i in range(n_steps):\n",
    "            self.saliences[i] = (np.argmax(activations[:,i]) + 400)/1000\n",
    "        plt.figure(7)\n",
    "        plt.plot(self.saliences[1:95000])\n",
    "        plt.ylabel(\"most salient intertap interval\")\n",
    "        plt.xlabel(\"time\")\n",
    "\n",
    "        \n",
    "\n",
    "        #commenting these figures out for now, they are just adding clutter\n",
    "        \n",
    "        \n",
    "        plt.figure(5)\n",
    "        plt.title(\"activations of various units\")\n",
    "        for i in range(10):\n",
    "            x = random.randint(0,self.n_units-1)\n",
    "            plt.plot(activations[x], label=\"unit \"+str(x), alpha=0.5)\n",
    "        plt.legend()\n",
    "        \n",
    "        \n",
    "        plt.figure(10)\n",
    "        plt.title(\"Activations at certain steps\")\n",
    "        plt.plot(activations[:,int(n_steps/4)],label=str(\"Activations at time point \"+str(int(n_steps/4))))\n",
    "        plt.plot(activations[:,6500],label=str(\"Activations at time point \"+str(int(n_steps/2))))\n",
    "        plt.plot(activations[:,int(n_steps/2)+int(n_steps/4)],label=str(\"Activations at time point \"+str(int(n_steps/2)+int(n_steps/4))))\n",
    "        plt.plot(activations[:,int(n_steps-1)],label=str(\"Activations at time point \"+str(int(n_steps-1))))\n",
    "        plt.ylabel(\"activation\")\n",
    "        plt.xlabel(\"unit\")\n",
    "        #plt.legend()\n",
    "        '''\n",
    "        \n",
    "\n",
    "    \n",
    "    def non_lin(self, vec):\n",
    "        \n",
    "        vec = np.tanh(vec)\n",
    "        for i in range(0,len(vec)):\n",
    "            if vec[i] < 0:\n",
    "                vec[i] = 0\n",
    "\n",
    "        return vec"
   ]
  },
  {
   "cell_type": "code",
   "execution_count": 94,
   "metadata": {},
   "outputs": [],
   "source": [
    "#I am going to try to simulate a Ornstein-Uhlenbeck (?) process, I think it makes a good model for a wandering cortical representation of the most salient rythym\n",
    "def UO(steps):\n",
    "    N = steps   #time steps\n",
    "    kappa = 0.3 #mean revision constant\n",
    "    theta = 0 #long term mean\n",
    "    sigma = 0.5 #volatility constant (how much noise there is?)\n",
    "\n",
    "    dt = 0.001\n",
    "\n",
    "    X= np.zeros(N)\n",
    "    X[0] = 0\n",
    "\n",
    "    W = stats.norm.rvs(loc=0, scale=1, size=(N - 1, 1)) #W is the Wiener process, I think this is just the actual random noise\n",
    "\n",
    "    std_dt = np.sqrt(sigma**2 / (2 * kappa) * (1 - np.exp(-2 * kappa * dt)))\n",
    "    for t in range(0, N - 1):\n",
    "        X[t + 1] = theta + np.exp(-kappa * dt) * (X[t] - theta) + std_dt * W[t]\n",
    "    return X"
   ]
  },
  {
   "cell_type": "code",
   "execution_count": 95,
   "metadata": {},
   "outputs": [
    {
     "name": "stderr",
     "output_type": "stream",
     "text": [
      "C:\\Users\\Jacob\\AppData\\Local\\Temp\\ipykernel_15268\\2069297289.py:17: DeprecationWarning: Conversion of an array with ndim > 0 to a scalar is deprecated, and will error in future. Ensure you extract a single element from your array before performing this operation. (Deprecated NumPy 1.25.)\n",
      "  X[t + 1] = theta + np.exp(-kappa * dt) * (X[t] - theta) + std_dt * W[t]\n"
     ]
    }
   ],
   "source": [
    "stable = attractor(n_units = 200, exc_spread = 15, inp_scale = 18, exc_scale = 0.03, inh_scale = 1.2, dop_scale = 8, tonic_inhib=5, n_noise_scale= 0.00)\n",
    "#give the network some time to warm-up before we start adding noise\n",
    "means = np.concatenate((np.zeros(3000),UO(17000)*10)) \n",
    "#dopamine starts to tail off after the network can warm up\n",
    "dopamine = np.ones(20000)\n",
    "dopamine[3000:] = np.linspace(1,0.9,17000)\n",
    "\n",
    "stable.run(dopamine=dopamine,means=means)\n"
   ]
  },
  {
   "cell_type": "markdown",
   "metadata": {},
   "source": [
    "Let's run the above noisy simulation like 100 times because it is hard to distinguish the variability from the randomness and from the dopamine"
   ]
  },
  {
   "cell_type": "code",
   "execution_count": 88,
   "metadata": {},
   "outputs": [
    {
     "name": "stderr",
     "output_type": "stream",
     "text": [
      "C:\\Users\\Jacob\\AppData\\Local\\Temp\\ipykernel_15268\\2069297289.py:17: DeprecationWarning: Conversion of an array with ndim > 0 to a scalar is deprecated, and will error in future. Ensure you extract a single element from your array before performing this operation. (Deprecated NumPy 1.25.)\n",
      "  X[t + 1] = theta + np.exp(-kappa * dt) * (X[t] - theta) + std_dt * W[t]\n"
     ]
    }
   ],
   "source": [
    "steps = 20000\n",
    "#matrix to store all of our results\n",
    "results = np.zeros((100,steps)) #100 x steps\n",
    "\n",
    "dopamine = np.ones(20000)\n",
    "dopamine[3000:] = np.linspace(1,0.9,17000)\n",
    "\n",
    "for i in range(0,100):\n",
    "    #generate random noise\n",
    "    noise = UO(steps-3000)\n",
    "    noise = np.concatenate((np.zeros(3000),noise))\n",
    "\n",
    "    stable.run(dopamine=dopamine,means=noise)\n",
    "    \n",
    "    results[i] = stable.saliences\n",
    "\n",
    "    "
   ]
  },
  {
   "cell_type": "code",
   "execution_count": 91,
   "metadata": {},
   "outputs": [
    {
     "data": {
      "text/plain": [
       "[<matplotlib.lines.Line2D at 0x22ad374f880>]"
      ]
     },
     "execution_count": 91,
     "metadata": {},
     "output_type": "execute_result"
    },
    {
     "data": {
      "image/png": "[encoded data removed]",
      "text/plain": [
       "<Figure size 640x480 with 1 Axes>"
      ]
     },
     "metadata": {},
     "output_type": "display_data"
    }
   ],
   "source": [
    "vars = np.var(results,axis=0)\n",
    "\n",
    "plt.plot(dopamine[3000:19000],vars[3000:19000])\n",
    "#plt.plot(vars[3000:19000])"
   ]
  }
 ],
 "metadata": {
  "kernelspec": {
   "display_name": "thesis_env",
   "language": "python",
   "name": "python3"
  },
  "language_info": {
   "codemirror_mode": {
    "name": "ipython",
    "version": 3
   },
   "file_extension": ".py",
   "mimetype": "text/x-python",
   "name": "python",
   "nbconvert_exporter": "python",
   "pygments_lexer": "ipython3",
   "version": "3.10.6"
  }
 },
 "nbformat": 4,
 "nbformat_minor": 2
}
